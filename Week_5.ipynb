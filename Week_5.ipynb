{
 "cells": [
  {
   "cell_type": "markdown",
   "metadata": {},
   "source": [
    "# Handin exercise for week 5: Pandas"
   ]
  },
  {
   "cell_type": "markdown",
   "metadata": {},
   "source": [
    "#### 1. What is the change in pct of divorced danes from 2008 to 2020?"
   ]
  },
  {
   "cell_type": "code",
   "execution_count": 1,
   "metadata": {
    "scrolled": true
   },
   "outputs": [
    {
     "name": "stdout",
     "output_type": "stream",
     "text": [
      "ALDER;CIVILSTAND;OMRÅDE;KØN;TID;INDHOLD\n",
      "I alt;Fraskilt;Hele landet;I alt;2008K1;428864\n",
      "I alt;Fraskilt;Hele landet;I alt;2020K4;552419\n",
      "I alt;Ugift;Hele landet;I alt;2020K1;2844060\n",
      "I alt;Ugift;Hele landet;I alt;2020K2;2851131\n",
      "I alt;Ugift;Hele landet;I alt;2020K3;2854659\n",
      "I alt;Ugift;Hele landet;I alt;2020K4;2859116\n",
      "I alt;Ugift;Region Hovedstaden;I alt;2020K1;973802\n",
      "I alt;Ugift;Region Hovedstaden;I alt;2020K2;976457\n",
      "I alt;Ugift;Region Hovedstaden;I alt;2020K3;977487\n"
     ]
    }
   ],
   "source": [
    "%%bash\n",
    "head ./textfiles/FOLK1A.csv"
   ]
  },
  {
   "cell_type": "code",
   "execution_count": 33,
   "metadata": {},
   "outputs": [
    {
     "name": "stderr",
     "output_type": "stream",
     "text": [
      "/opt/conda/lib/python3.7/site-packages/ipykernel_launcher.py:8: SettingWithCopyWarning: \n",
      "A value is trying to be set on a copy of a slice from a DataFrame.\n",
      "Try using .loc[row_indexer,col_indexer] = value instead\n",
      "\n",
      "See the caveats in the documentation: https://pandas.pydata.org/pandas-docs/stable/user_guide/indexing.html#returning-a-view-versus-a-copy\n",
      "  \n"
     ]
    },
    {
     "data": {
      "text/html": [
       "<div>\n",
       "<style scoped>\n",
       "    .dataframe tbody tr th:only-of-type {\n",
       "        vertical-align: middle;\n",
       "    }\n",
       "\n",
       "    .dataframe tbody tr th {\n",
       "        vertical-align: top;\n",
       "    }\n",
       "\n",
       "    .dataframe thead th {\n",
       "        text-align: right;\n",
       "    }\n",
       "</style>\n",
       "<table border=\"1\" class=\"dataframe\">\n",
       "  <thead>\n",
       "    <tr style=\"text-align: right;\">\n",
       "      <th></th>\n",
       "      <th>ALDER</th>\n",
       "      <th>CIVILSTAND</th>\n",
       "      <th>OMRÅDE</th>\n",
       "      <th>KØN</th>\n",
       "      <th>TID</th>\n",
       "      <th>INDHOLD</th>\n",
       "      <th>PCT_CHANGE</th>\n",
       "    </tr>\n",
       "  </thead>\n",
       "  <tbody>\n",
       "    <tr>\n",
       "      <th>0</th>\n",
       "      <td>I alt</td>\n",
       "      <td>Fraskilt</td>\n",
       "      <td>Hele landet</td>\n",
       "      <td>I alt</td>\n",
       "      <td>2008K1</td>\n",
       "      <td>428864</td>\n",
       "      <td>NaN</td>\n",
       "    </tr>\n",
       "    <tr>\n",
       "      <th>1</th>\n",
       "      <td>I alt</td>\n",
       "      <td>Fraskilt</td>\n",
       "      <td>Hele landet</td>\n",
       "      <td>I alt</td>\n",
       "      <td>2020K4</td>\n",
       "      <td>552419</td>\n",
       "      <td>0.288098</td>\n",
       "    </tr>\n",
       "  </tbody>\n",
       "</table>\n",
       "</div>"
      ],
      "text/plain": [
       "   ALDER CIVILSTAND       OMRÅDE    KØN     TID  INDHOLD  PCT_CHANGE\n",
       "0  I alt   Fraskilt  Hele landet  I alt  2008K1   428864         NaN\n",
       "1  I alt   Fraskilt  Hele landet  I alt  2020K4   552419    0.288098"
      ]
     },
     "execution_count": 33,
     "metadata": {},
     "output_type": "execute_result"
    }
   ],
   "source": [
    "%matplotlib inline\n",
    "import pandas as pd\n",
    "import numpy as np\n",
    "import matplotlib.pyplot as plt\n",
    "\n",
    "df = pd.read_csv('./textfiles/FOLK1A.csv', delimiter=';')\n",
    "df1 = df[df['CIVILSTAND'].isin(['Fraskilt'])]\n",
    "df1['PCT_CHANGE'] = df['INDHOLD'].pct_change()\n",
    "df1\n"
   ]
  },
  {
   "cell_type": "markdown",
   "metadata": {},
   "source": [
    "#### 2. Which of the 5 biggest cities has the highest percentage of 'Never Married' in 2020?\n"
   ]
  },
  {
   "cell_type": "code",
   "execution_count": 4,
   "metadata": {
    "scrolled": true
   },
   "outputs": [
    {
     "data": {
      "text/html": [
       "<div>\n",
       "<style scoped>\n",
       "    .dataframe tbody tr th:only-of-type {\n",
       "        vertical-align: middle;\n",
       "    }\n",
       "\n",
       "    .dataframe tbody tr th {\n",
       "        vertical-align: top;\n",
       "    }\n",
       "\n",
       "    .dataframe thead th {\n",
       "        text-align: right;\n",
       "    }\n",
       "</style>\n",
       "<table border=\"1\" class=\"dataframe\">\n",
       "  <thead>\n",
       "    <tr style=\"text-align: right;\">\n",
       "      <th></th>\n",
       "      <th>CIVILSTAND</th>\n",
       "      <th>TID</th>\n",
       "      <th>OMRÅDE</th>\n",
       "      <th>INDHOLD</th>\n",
       "    </tr>\n",
       "  </thead>\n",
       "  <tbody>\n",
       "    <tr>\n",
       "      <th>0</th>\n",
       "      <td>I alt</td>\n",
       "      <td>2020K4</td>\n",
       "      <td>Region Hovedstaden</td>\n",
       "      <td>1854296</td>\n",
       "    </tr>\n",
       "    <tr>\n",
       "      <th>5</th>\n",
       "      <td>Ugift</td>\n",
       "      <td>2020K4</td>\n",
       "      <td>Region Hovedstaden</td>\n",
       "      <td>981652</td>\n",
       "    </tr>\n",
       "    <tr>\n",
       "      <th>2</th>\n",
       "      <td>I alt</td>\n",
       "      <td>2020K4</td>\n",
       "      <td>Region Midtjylland</td>\n",
       "      <td>1330866</td>\n",
       "    </tr>\n",
       "    <tr>\n",
       "      <th>7</th>\n",
       "      <td>Ugift</td>\n",
       "      <td>2020K4</td>\n",
       "      <td>Region Midtjylland</td>\n",
       "      <td>657563</td>\n",
       "    </tr>\n",
       "    <tr>\n",
       "      <th>4</th>\n",
       "      <td>I alt</td>\n",
       "      <td>2020K4</td>\n",
       "      <td>Region Nordjylland</td>\n",
       "      <td>590739</td>\n",
       "    </tr>\n",
       "    <tr>\n",
       "      <th>9</th>\n",
       "      <td>Ugift</td>\n",
       "      <td>2020K4</td>\n",
       "      <td>Region Nordjylland</td>\n",
       "      <td>281410</td>\n",
       "    </tr>\n",
       "    <tr>\n",
       "      <th>1</th>\n",
       "      <td>I alt</td>\n",
       "      <td>2020K4</td>\n",
       "      <td>Region Sjælland</td>\n",
       "      <td>838129</td>\n",
       "    </tr>\n",
       "    <tr>\n",
       "      <th>6</th>\n",
       "      <td>Ugift</td>\n",
       "      <td>2020K4</td>\n",
       "      <td>Region Sjælland</td>\n",
       "      <td>369548</td>\n",
       "    </tr>\n",
       "    <tr>\n",
       "      <th>3</th>\n",
       "      <td>I alt</td>\n",
       "      <td>2020K4</td>\n",
       "      <td>Region Syddanmark</td>\n",
       "      <td>1223183</td>\n",
       "    </tr>\n",
       "    <tr>\n",
       "      <th>8</th>\n",
       "      <td>Ugift</td>\n",
       "      <td>2020K4</td>\n",
       "      <td>Region Syddanmark</td>\n",
       "      <td>568943</td>\n",
       "    </tr>\n",
       "  </tbody>\n",
       "</table>\n",
       "</div>"
      ],
      "text/plain": [
       "  CIVILSTAND     TID              OMRÅDE  INDHOLD\n",
       "0      I alt  2020K4  Region Hovedstaden  1854296\n",
       "5      Ugift  2020K4  Region Hovedstaden   981652\n",
       "2      I alt  2020K4  Region Midtjylland  1330866\n",
       "7      Ugift  2020K4  Region Midtjylland   657563\n",
       "4      I alt  2020K4  Region Nordjylland   590739\n",
       "9      Ugift  2020K4  Region Nordjylland   281410\n",
       "1      I alt  2020K4     Region Sjælland   838129\n",
       "6      Ugift  2020K4     Region Sjælland   369548\n",
       "3      I alt  2020K4   Region Syddanmark  1223183\n",
       "8      Ugift  2020K4   Region Syddanmark   568943"
      ]
     },
     "execution_count": 4,
     "metadata": {},
     "output_type": "execute_result"
    }
   ],
   "source": [
    "url = 'https://api.statbank.dk/v1/data/FOLK1A/CSV?valuePresentation=Value&delimiter=Semicolon&CIVILSTAND=TOT%2CU&Tid=2020K4&OMR%C3%85DE=084%2C085%2C082%2C083%2C081'\n",
    "df = pd.read_csv(url, sep=';')\n",
    "df = df.sort_values(by=['OMRÅDE'])\n",
    "df"
   ]
  },
  {
   "cell_type": "code",
   "execution_count": 5,
   "metadata": {},
   "outputs": [
    {
     "name": "stdout",
     "output_type": "stream",
     "text": [
      "  CIVILSTAND     TID              OMRÅDE  INDHOLD\n",
      "0      I alt  2020K4  Region Hovedstaden  1854296\n",
      "2      I alt  2020K4  Region Midtjylland  1330866\n",
      "4      I alt  2020K4  Region Nordjylland   590739\n",
      "1      I alt  2020K4     Region Sjælland   838129\n",
      "3      I alt  2020K4   Region Syddanmark  1223183\n"
     ]
    }
   ],
   "source": [
    "mask_ialt = df[df['CIVILSTAND'].isin(['I alt'])]\n",
    "mask_ugift = df[df['CIVILSTAND'].isin(['Ugift'])]\n",
    "print(mask_ialt)"
   ]
  },
  {
   "cell_type": "code",
   "execution_count": 6,
   "metadata": {
    "scrolled": true
   },
   "outputs": [
    {
     "name": "stdout",
     "output_type": "stream",
     "text": [
      "  CIVILSTAND     TID              OMRÅDE  INDHOLD\n",
      "5      Ugift  2020K4  Region Hovedstaden   981652\n",
      "7      Ugift  2020K4  Region Midtjylland   657563\n",
      "9      Ugift  2020K4  Region Nordjylland   281410\n",
      "6      Ugift  2020K4     Region Sjælland   369548\n",
      "8      Ugift  2020K4   Region Syddanmark   568943\n"
     ]
    }
   ],
   "source": [
    "print(mask_ugift)"
   ]
  },
  {
   "cell_type": "code",
   "execution_count": 7,
   "metadata": {
    "scrolled": true
   },
   "outputs": [
    {
     "name": "stdout",
     "output_type": "stream",
     "text": [
      "0 52.93933654605306\n",
      "1 49.40865571740506\n",
      "2 47.636942880019774\n",
      "3 44.092019247633715\n",
      "4 46.513318121654734\n"
     ]
    }
   ],
   "source": [
    "total_list = list(mask_ialt.iloc[:,-1])\n",
    "ugift_list = list(mask_ugift.iloc[:,-1])\n",
    "\n",
    "for element in range(5):\n",
    "    percent = ugift_list[element]/total_list[element]*100\n",
    "    print(element, percent)"
   ]
  },
  {
   "cell_type": "markdown",
   "metadata": {},
   "source": [
    "##### 3. Show a bar chart of changes in marrital status in Copenhagen from 2008 till now"
   ]
  },
  {
   "cell_type": "code",
   "execution_count": 100,
   "metadata": {},
   "outputs": [],
   "source": [
    "url = 'https://api.statbank.dk/v1/data/FOLK1A/CSV?delimiter=Semicolon&Tid=2008K1%2C2009K1%2C2010K1%2C2011K1%2C2012K1%2C2013K1%2C2014K1%2C2015K1%2C2016K1%2C2017K1%2C2018K1%2C2019K1%2C2020K1%2C2021K1&CIVILSTAND=U%2CG%2CE%2CF'\n",
    "url_ugift = 'https://api.statbank.dk/v1/data/FOLK1A/CSV?delimiter=Semicolon&Tid=2008K1%2C2009K1%2C2010K1%2C2011K1%2C2012K1%2C2013K1%2C2014K1%2C2015K1%2C2016K1%2C2017K1%2C2018K1%2C2019K1%2C2020K1%2C2021K1&CIVILSTAND=U'\n",
    "url_gift = 'https://api.statbank.dk/v1/data/FOLK1A/CSV?delimiter=Semicolon&Tid=2008K1%2C2009K1%2C2010K1%2C2011K1%2C2012K1%2C2013K1%2C2014K1%2C2015K1%2C2016K1%2C2017K1%2C2018K1%2C2019K1%2C2020K1%2C2021K1&CIVILSTAND=G'\n",
    "url_enke = 'https://api.statbank.dk/v1/data/FOLK1A/CSV?delimiter=Semicolon&Tid=2008K1%2C2009K1%2C2010K1%2C2011K1%2C2012K1%2C2013K1%2C2014K1%2C2015K1%2C2016K1%2C2017K1%2C2018K1%2C2019K1%2C2020K1%2C2021K1&CIVILSTAND=E'\n",
    "url_fraskilt = 'https://api.statbank.dk/v1/data/FOLK1A/CSV?delimiter=Semicolon&Tid=2008K1%2C2009K1%2C2010K1%2C2011K1%2C2012K1%2C2013K1%2C2014K1%2C2015K1%2C2016K1%2C2017K1%2C2018K1%2C2019K1%2C2020K1%2C2021K1&CIVILSTAND=F'\n",
    "df = pd.read_csv(url, delimiter=';')\n",
    "df1 = pd.read_csv(url_ugift, delimiter=';')\n",
    "df2 = pd.read_csv(url_gift, delimiter=';')\n",
    "df3 = pd.read_csv(url_enke, delimiter=';')\n",
    "df4 = pd.read_csv(url_fraskilt, delimiter=';')\n",
    "#df.plot.bar('CIVILSTAND', 'INDHOLD', figsize=(20,10))\n",
    "#df.plot.bar('TID', 'INDHOLD', width=0.5, align='center', rot=45, figsize=(20,10))\n",
    "#plt.bar(df['CIVILSTAND'], df['INDHOLD'], label='Ugift')"
   ]
  },
  {
   "cell_type": "code",
   "execution_count": 164,
   "metadata": {},
   "outputs": [
    {
     "data": {
      "text/plain": [
       "Text(0, 0.5, 'Antal mennesker')"
      ]
     },
     "execution_count": 164,
     "metadata": {},
     "output_type": "execute_result"
    },
    {
     "data": {
      "image/png": "[encoded data removed]",
      "text/plain": [
       "<Figure size 432x288 with 1 Axes>"
      ]
     },
     "metadata": {
      "needs_background": "light"
     },
     "output_type": "display_data"
    }
   ],
   "source": [
    "ugift_list = list(df1.iloc[:]['INDHOLD'])\n",
    "gift_list = list(df2.iloc[:]['INDHOLD'])\n",
    "enke_list = list(df3.iloc[:]['INDHOLD'])\n",
    "fraskilt_list = list(df4.iloc[:]['INDHOLD'])\n",
    "år = []\n",
    "for element in df1['TID']:\n",
    "    år.append(element)\n",
    "\n",
    "plt.bar(år, ugift_list, label='Ugift')\n",
    "plt.bar(år, gift_list, label='Gift')\n",
    "plt.bar(år, fraskilt_list, label='Fraskilt')\n",
    "plt.bar(år, enke_list, label='Enke')\n",
    "plt.legend(loc=1)\n",
    "plt.xticks(rotation=45, horizontalalignment='right',fontweight='light')\n",
    "plt.title('Marrital status in Copenhagen from 2008 - 2021', fontsize=12)\n",
    "plt.ylabel(\"Antal mennesker\", fontsize=10)\n",
    "#plt.axis([0, 14, 0, max(ugift_list) + 1250000])"
   ]
  },
  {
   "cell_type": "code",
   "execution_count": 165,
   "metadata": {
    "scrolled": true
   },
   "outputs": [],
   "source": [
    "#df.plot.bar('CIVILSTAND', 'INDHOLD', figsize=(20,10))\n",
    "#df.plot.bar('TID', 'INDHOLD', width=0.5, align='center', rot=45, figsize=(20,10))"
   ]
  },
  {
   "cell_type": "markdown",
   "metadata": {},
   "source": [
    "#### Show 2 plots in same figure: 'Married' and 'Never Married' for all ages in DK in 2020\n",
    "##### (Hint: x axis is age from 0-125, y axis is how many people in the 2 categories). Add lengend to show names on graphs"
   ]
  },
  {
   "cell_type": "code",
   "execution_count": 55,
   "metadata": {},
   "outputs": [],
   "source": [
    "url_gift = 'https://api.statbank.dk/v1/data/FOLK1A/CSV?delimiter=Semicolon&CIVILSTAND=G&ALDER=*&Tid=2020K4'\n",
    "url_ugift = 'https://api.statbank.dk/v1/data/FOLK1A/CSV?delimiter=Semicolon&CIVILSTAND=U&ALDER=*&Tid=2020K4'\n",
    "\n",
    "df_gift = pd.read_csv(url_gift, sep=';')\n",
    "df_ugift = pd.read_csv(url_ugift, sep=';')"
   ]
  },
  {
   "cell_type": "code",
   "execution_count": 71,
   "metadata": {},
   "outputs": [
    {
     "data": {
      "text/plain": [
       "<matplotlib.legend.Legend at 0x7f5b20e0cb90>"
      ]
     },
     "execution_count": 71,
     "metadata": {},
     "output_type": "execute_result"
    },
    {
     "data": {
      "image/png": "[encoded data removed]",
      "text/plain": [
       "<Figure size 432x288 with 1 Axes>"
      ]
     },
     "metadata": {
      "needs_background": "light"
     },
     "output_type": "display_data"
    }
   ],
   "source": [
    "gift_list = list(df_gift.iloc[1:]['INDHOLD'])\n",
    "ugift_list = list(df_ugift.iloc[1:]['INDHOLD'])\n",
    "alder = []\n",
    "for element in range(126):\n",
    "    alder.append(element)\n",
    "\n",
    "plt.plot(alder, gift_list, label='Gift')\n",
    "plt.plot(alder, ugift_list, label='Ugift')\n",
    "plt.legend()"
   ]
  }
 ],
 "metadata": {
  "kernelspec": {
   "display_name": "Python 3",
   "language": "python",
   "name": "python3"
  },
  "language_info": {
   "codemirror_mode": {
    "name": "ipython",
    "version": 3
   },
   "file_extension": ".py",
   "mimetype": "text/x-python",
   "name": "python",
   "nbconvert_exporter": "python",
   "pygments_lexer": "ipython3",
   "version": "3.7.6"
  }
 },
 "nbformat": 4,
 "nbformat_minor": 4
}
