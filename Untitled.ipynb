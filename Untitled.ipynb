{
 "cells": [
  {
   "cell_type": "code",
   "execution_count": 2,
   "metadata": {},
   "outputs": [
    {
     "name": "stdout",
     "output_type": "stream",
     "text": [
      "Student('Mathilde', 'Male', ['Python', 'Class E', 'Thomas', 10, 7], 'image_url')\n",
      "Student('David', 'Female', ['Python', 'Class E', 'Thomas', 10, 2], 'image_url')\n",
      "Student('Alberte', 'Female', ['Security', 'Class E', 'Thomas', 10, 2], 'image_url')\n",
      "Student('Alberte', 'Male', ['Security', 'Class E', 'Thomas', 10, 7], 'image_url')\n"
     ]
    }
   ],
   "source": [
    "from modules import ex1classes as ex1\n",
    "\n",
    "ex1.generate_student(4)"
   ]
  }
 ],
 "metadata": {
  "kernelspec": {
   "display_name": "Python 3",
   "language": "python",
   "name": "python3"
  },
  "language_info": {
   "codemirror_mode": {
    "name": "ipython",
    "version": 3
   },
   "file_extension": ".py",
   "mimetype": "text/x-python",
   "name": "python",
   "nbconvert_exporter": "python",
   "pygments_lexer": "ipython3",
   "version": "3.7.6"
  }
 },
 "nbformat": 4,
 "nbformat_minor": 4
}
