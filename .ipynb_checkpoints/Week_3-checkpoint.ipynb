{
 "cells": [
  {
   "cell_type": "markdown",
   "metadata": {},
   "source": [
    "# Week 3 handin"
   ]
  },
  {
   "cell_type": "markdown",
   "metadata": {},
   "source": [
    "## Ex 1 Classes\n",
    "1. Create 3 classes: Student, DataSheet and Course\n",
    "2. A student has a data_sheet and a data_sheet has multiple courses in particular order\n",
    "3. Each course has name, classroom, teacher, ETCS and optional grade if course is taken.\n",
    "4. In Student create __init__() so that a Student can be initiated with name, gender, data_sheet and image_url\n",
    "5. In DataSheet create a method to get_grades_as_list()\n",
    "6. In student create a method: get_avg_grade()\n",
    "7. Create a function that can generate n number of students with random: name, gender, courses (from a fixed list of course names), grades, img_url\n",
    "   1. Let the function write the result to a csv file with format stud_name, course_name, teacher, ects, classroom, grade, img_url\n",
    "7. Read student data into a list of Students from a csv file: \n",
    "   1. loop through the list and print each student with name, img_url and avg_grade.\n",
    "   2. sort the list by avg_grade\n",
    "   3. create a bar chart with student_name on x and avg_grade on y-axis\n",
    "8. Make a method on Student class that can show progression of the study in % (add up ECTS from all passed courses divided by total of 150 total points (equivalent to 5 semesters))\n",
    "9. Show a bar chart of distribution of study progression on x-axis and number of students in each category on y-axis. (e.g. make 10 categories from 0-100%)\n",
    "\n",
    "Extra: Make the Datasheet class iterable so that next(data_sheet) will return the next course in the list\n",
    "\n",
    "## Ex 2 Exceptions (extra)\n",
    "1. Create a function that can take a list of students and return the 3 students closest to completing their study.\n",
    "2. If list is shorter than 3 raise your own custom exception (NotEnoughStudentsException)\n",
    "3. Create another function that can create a csv file with 3 students closest to completion\n",
    "   1. If an exception is raised write an appropriate message to the file\n",
    "\n",
    "## Ex 3 Plotting (extra)\n",
    "1. Create a function that can take a list of students and show a pie chart of how students are distributed in ECTS percentage categories (10%, 20%, ...)\n",
    "2. create a function that can take a list of students and show how many students have taken each course (bar chart)\n",
    "   1. create a method on student that can return a list of courses\n",
    "3. make the figure show males and females in different colors for each course (display 2 datasets in same figure)"
   ]
  },
  {
   "cell_type": "markdown",
   "metadata": {},
   "source": [
    "## 02 Status\n",
    "Ex 1 Classes 1 - 8 done.\n",
    "9-10 partly done.\n",
    "\n",
    "All classes and methods is in modules/ex1classes.py"
   ]
  },
  {
   "cell_type": "markdown",
   "metadata": {},
   "source": [
    "## Solution part 1"
   ]
  },
  {
   "cell_type": "code",
   "execution_count": 1,
   "metadata": {},
   "outputs": [
    {
     "name": "stdout",
     "output_type": "stream",
     "text": [
      "Student('Alberte', 'Male', ['Security', 'Class E', 'Thomas', 20, 0, 'GameDev', 'Class E', 'Thomas', 60, 2, 'Security', 'Class E', 'Thomas', 30, 4], 'image_url')\n",
      "Student('Mathilde', 'Male', ['Security', 'Class E', 'Thomas', 20, 7, 'Security', 'Class E', 'Thomas', 40, 10, 'GameDev', 'Class E', 'Thomas', 10, 0], 'image_url')\n",
      "Student('Anders', 'Male', ['GameDev', 'Class E', 'Thomas', 30, 12, 'Security', 'Class E', 'Thomas', 30, 0, 'Python', 'Class E', 'Thomas', 60, 2], 'image_url')\n",
      "Student('Anders', 'Male', ['Python', 'Class E', 'Thomas', 20, 7, 'GameDev', 'Class E', 'Thomas', 30, 2, 'Python', 'Class E', 'Thomas', 10, 10], 'image_url')\n",
      "Student('Morten', 'Male', ['Security', 'Class E', 'Thomas', 10, 10, 'Security', 'Class E', 'Thomas', 40, 12, 'Python', 'Class E', 'Thomas', 30, 10], 'image_url')\n",
      "Student('David', 'Female', ['Security', 'Class E', 'Thomas', 20, 12, 'Python', 'Class E', 'Thomas', 20, 10, 'Security', 'Class E', 'Thomas', 30, 4], 'image_url')\n",
      "Student('Emma', 'Male', ['Security', 'Class E', 'Thomas', 60, 0, 'Security', 'Class E', 'Thomas', 20, 12, 'GameDev', 'Class E', 'Thomas', 50, 2], 'image_url')\n"
     ]
    }
   ],
   "source": [
    "from modules import ex1classes as ex\n",
    "\n",
    "ex.generate_student(7)"
   ]
  },
  {
   "cell_type": "code",
   "execution_count": 2,
   "metadata": {
    "scrolled": true
   },
   "outputs": [
    {
     "name": "stdout",
     "output_type": "stream",
     "text": [
      "Name: Emma, img_url: image_url\n",
      ", avg_grade: 7.0\n",
      "Name: Alberte, img_url: image_url\n",
      ", avg_grade: 10.0\n",
      "Name: Emma, img_url: image_url\n",
      ", avg_grade: 0.0\n",
      "Name: Morten, img_url: image_url\n",
      ", avg_grade: 4.0\n",
      "Name: John, img_url: image_url\n",
      ", avg_grade: 12.0\n",
      "Name: Alberte, img_url: image_url\n",
      ", avg_grade: 4.0\n",
      "Name: Anders, img_url: image_url\n",
      ", avg_grade: 2.0\n",
      "Name: Morten, img_url: image_url\n",
      ", avg_grade: 12.0\n",
      "Name: Emma, img_url: image_url\n",
      ", avg_grade: 10.0\n",
      "Name: Emma, img_url: image_url\n",
      ", avg_grade: 0.0\n",
      "Name: John, img_url: image_url\n",
      ", avg_grade: 0.0\n",
      "Name: Emma, img_url: image_url\n",
      ", avg_grade: 10.0\n",
      "Name: Morten, img_url: image_url\n",
      ", avg_grade: 2.0\n",
      "Name: Anders, img_url: image_url\n",
      ", avg_grade: 0.0\n",
      "Name: Emma, img_url: image_url\n",
      ", avg_grade: 10.0\n",
      "Name: John, img_url: image_url\n",
      ", avg_grade: 2.0\n",
      "Name: Alberte, img_url: image_url\n",
      ", avg_grade: 12.0\n",
      "Name: David, img_url: image_url\n",
      ", avg_grade: 7.0\n",
      "Name: Alberte, img_url: image_url\n",
      ", avg_grade: 12.0\n",
      "Name: John, img_url: image_url\n",
      ", avg_grade: 4.0\n"
     ]
    }
   ],
   "source": [
    "ex.print_student_list()"
   ]
  },
  {
   "cell_type": "code",
   "execution_count": 4,
   "metadata": {},
   "outputs": [
    {
     "name": "stdout",
     "output_type": "stream",
     "text": [
      "Sorted by grade:\n",
      "Name: Emma, img_url: image_url\n",
      ", avg_grade: 0.0\n",
      "Name: Morten, img_url: image_url\n",
      ", avg_grade: 4.0\n",
      "Name: Alberte, img_url: image_url\n",
      ", avg_grade: 4.0\n",
      "Name: Emma, img_url: image_url\n",
      ", avg_grade: 7.0\n",
      "Name: Alberte, img_url: image_url\n",
      ", avg_grade: 10.0\n",
      "Name: John, img_url: image_url\n",
      ", avg_grade: 12.0\n"
     ]
    }
   ],
   "source": [
    "import matplotlib.pyplot as plt\n",
    "ex.sort_by_avg_grade()"
   ]
  },
  {
   "cell_type": "markdown",
   "metadata": {},
   "source": [
    "## 04 Solution part 2"
   ]
  },
  {
   "cell_type": "code",
   "execution_count": 3,
   "metadata": {},
   "outputs": [
    {
     "data": {
      "image/png": "[encoded data removed]",
      "text/plain": [
       "<Figure size 432x288 with 1 Axes>"
      ]
     },
     "metadata": {
      "needs_background": "light"
     },
     "output_type": "display_data"
    }
   ],
   "source": [
    "import matplotlib.pyplot as plt\n",
    "\n",
    "ex.student_bar_chart()"
   ]
  },
  {
   "cell_type": "code",
   "execution_count": 2,
   "metadata": {},
   "outputs": [
    {
     "data": {
      "image/png": "[encoded data removed]",
      "text/plain": [
       "<Figure size 432x288 with 1 Axes>"
      ]
     },
     "metadata": {
      "needs_background": "light"
     },
     "output_type": "display_data"
    }
   ],
   "source": [
    "ex.study_progression_chart()"
   ]
  },
  {
   "cell_type": "code",
   "execution_count": null,
   "metadata": {},
   "outputs": [],
   "source": []
  }
 ],
 "metadata": {
  "kernelspec": {
   "display_name": "Python 3",
   "language": "python",
   "name": "python3"
  },
  "language_info": {
   "codemirror_mode": {
    "name": "ipython",
    "version": 3
   },
   "file_extension": ".py",
   "mimetype": "text/x-python",
   "name": "python",
   "nbconvert_exporter": "python",
   "pygments_lexer": "ipython3",
   "version": "3.7.6"
  }
 },
 "nbformat": 4,
 "nbformat_minor": 4
}
