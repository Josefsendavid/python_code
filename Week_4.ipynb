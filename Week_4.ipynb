{
 "cells": [
  {
   "cell_type": "markdown",
   "metadata": {},
   "source": [
    "# Week 4 Exercise with Numpy\n",
    "\n",
    "Use only numpy (not pandas) in these exercises\n",
    "#### Exercise 1\n",
    "1. Open the file './data/befkbhalderstatkode.csv'\n",
    "2. Turn the csv file into a numpy ndarray with `np.genfromtxt(filename, delimiter=',', dtype=np.uint, skip_header=1)`\n",
    "3. Using this data:\n",
    "```python\n",
    "neighb = {1: 'Indre By', 2: 'Østerbro', 3: 'Nørrebro', 4: 'Vesterbro/Kgs. Enghave', \n",
    "          5: 'Valby', 6: 'Vanløse', 7: 'Brønshøj-Husum', 8: 'Bispebjerg', 9: 'Amager Øst', \n",
    "          10: 'Amager Vest', 99: 'Udenfor'}\n",
    "```\n",
    "Find out how many people lived in each of the 11 areas in 2015\n",
    "4. Make a bar plot to show the size of each city area from the smallest to the largest\n",
    "5. Create a boolean mask to find out how many people above 65 years lived in Copenhagen in 2015\n",
    "6. How many of those were from the other nordic countries (not dk)\n",
    "7. Make a line plot showing the changes of number of people in vesterbro and østerbro from 1992 to 2015"
   ]
  },
  {
   "cell_type": "markdown",
   "metadata": {},
   "source": [
    "#### Status\n",
    "Exercise 1 is done."
   ]
  },
  {
   "cell_type": "code",
   "execution_count": 1,
   "metadata": {},
   "outputs": [
    {
     "name": "stdout",
     "output_type": "stream",
     "text": [
      "AAR,BYDEL,ALDER,STATKODE,PERSONER\r\n",
      "2015,1,0,5100,614\r\n",
      "2015,1,0,5104,2\r\n",
      "2015,1,0,5106,1\r\n",
      "2015,1,0,5110,1\r\n",
      "2015,1,0,5120,4\r\n",
      "2015,1,0,5126,1\r\n",
      "2015,1,0,5130,5\r\n",
      "2015,1,0,5140,3\r\n",
      "2015,1,0,5150,5\r\n"
     ]
    }
   ],
   "source": [
    "%%bash\n",
    "# 1. Open the file './data/befkbhalderstatkode.csv'\n",
    "head ../data/befkbhalderstatkode.csv"
   ]
  },
  {
   "cell_type": "code",
   "execution_count": 2,
   "metadata": {},
   "outputs": [
    {
     "name": "stdout",
     "output_type": "stream",
     "text": [
      "<class 'numpy.ndarray'>  of size:  2712585\n",
      "[[2015    1    0 5100  614]\n",
      " [2015    1    0 5104    2]\n",
      " [2015    1    0 5106    1]\n",
      " ...\n",
      " [1992   99   89 5100    1]\n",
      " [1992   99   90 5180    1]\n",
      " [1992   99   93 5100    1]]\n"
     ]
    }
   ],
   "source": [
    "import numpy as np\n",
    "# 2. Turn the csv file into a numpy ndarray with `np.genfromtxt(filename, delimiter=',', dtype=np.uint, skip_header=1)`\n",
    "# read data from csv file into 2d numby array\n",
    "filename = '../data/befkbhalderstatkode.csv'\n",
    "\n",
    "bef_stats_df = np.genfromtxt(filename, delimiter=',', dtype=np.uint, skip_header=1)\n",
    "\n",
    "print(type(bef_stats_df), ' of size: ',bef_stats_df.size)\n",
    "dd = bef_stats_df\n",
    "print(dd)"
   ]
  },
  {
   "cell_type": "code",
   "execution_count": 3,
   "metadata": {},
   "outputs": [],
   "source": [
    "# 3. Using this data:\n",
    "neighb = {1: 'Indre By', 2: 'Østerbro', 3: 'Nørrebro', 4: 'Vesterbro/Kgs. Enghave', \n",
    "          5: 'Valby', 6: 'Vanløse', 7: 'Brønshøj-Husum', 8: 'Bispebjerg', 9: 'Amager Øst', \n",
    "          10: 'Amager Vest', 99: 'Udenfor'}"
   ]
  },
  {
   "cell_type": "code",
   "execution_count": 4,
   "metadata": {},
   "outputs": [],
   "source": [
    "def number_of_people_per_neighbourhood(n, mask):\n",
    "    all_people_in_given_n = dd[mask & (dd[:,1] == n)]\n",
    "    sum_of_people = all_people_in_given_n[:,4].sum()\n",
    "    return sum_of_people"
   ]
  },
  {
   "cell_type": "code",
   "execution_count": 5,
   "metadata": {},
   "outputs": [
    {
     "name": "stdout",
     "output_type": "stream",
     "text": [
      "[51937 75113 78802 61623 51727 39537 43908 53604 55205 64967  3872]\n"
     ]
    }
   ],
   "source": [
    "# 3. Find out how many people lived in each of the 11 areas in 2015\n",
    "mask = (dd[:,0] == 2015)\n",
    "p_in_2015 = np.array([number_of_people_per_neighbourhood(n, mask) for n in neighb.keys()])\n",
    "print(p_in_2015)"
   ]
  },
  {
   "cell_type": "code",
   "execution_count": 6,
   "metadata": {},
   "outputs": [
    {
     "name": "stdout",
     "output_type": "stream",
     "text": [
      "Sorted: [3872, 39537, 43908, 51727, 51937, 53604, 55205, 61623, 64967, 75113, 78802]\n"
     ]
    },
    {
     "data": {
      "text/plain": [
       "([0, 1, 2, 3, 4, 5, 6, 7, 8, 9, 10],\n",
       " <a list of 11 Text major ticklabel objects>)"
      ]
     },
     "execution_count": 6,
     "metadata": {},
     "output_type": "execute_result"
    },
    {
     "data": {
      "image/png": "[encoded data removed]",
      "text/plain": [
       "<Figure size 432x288 with 1 Axes>"
      ]
     },
     "metadata": {
      "needs_background": "light"
     },
     "output_type": "display_data"
    }
   ],
   "source": [
    "import matplotlib.pyplot as plt\n",
    "# 4. Make a bar plot to show the size of each city area from the smallest to the largest\n",
    "people_sorted = sorted(np.copy(p_in_2015))\n",
    "print('Sorted:',people_sorted)\n",
    "plt.bar(neighb.values(), p_in_2015,width=0.5, align='center')\n",
    "plt.xticks(rotation=45, horizontalalignment='right',fontweight='light')"
   ]
  },
  {
   "cell_type": "code",
   "execution_count": 7,
   "metadata": {},
   "outputs": [
    {
     "name": "stdout",
     "output_type": "stream",
     "text": [
      "{'Indre By': 51937, 'Østerbro': 75113, 'Nørrebro': 78802, 'Vesterbro/Kgs. Enghave': 61623, 'Valby': 51727, 'Vanløse': 39537, 'Brønshøj-Husum': 43908, 'Bispebjerg': 53604, 'Amager Øst': 55205, 'Amager Vest': 64967, 'Udenfor': 3872}\n"
     ]
    }
   ],
   "source": [
    "temp = dict(zip(neighb.values(), p_in_2015))\n",
    "print(temp)"
   ]
  },
  {
   "cell_type": "code",
   "execution_count": 8,
   "metadata": {},
   "outputs": [
    {
     "name": "stdout",
     "output_type": "stream",
     "text": [
      "[['Indre By' '51937']\n",
      " ['Østerbro' '75113']\n",
      " ['Nørrebro' '78802']\n",
      " ['Vesterbro/Kgs. Enghave' '61623']\n",
      " ['Valby' '51727']\n",
      " ['Vanløse' '39537']\n",
      " ['Brønshøj-Husum' '43908']\n",
      " ['Bispebjerg' '53604']\n",
      " ['Amager Øst' '55205']\n",
      " ['Amager Vest' '64967']\n",
      " ['Udenfor' '3872']]\n"
     ]
    }
   ],
   "source": [
    "result = temp.items()\n",
    "temp_list = list(result)\n",
    "temp_array = np.array(temp_list)\n",
    "print(temp_array)"
   ]
  },
  {
   "cell_type": "code",
   "execution_count": 9,
   "metadata": {},
   "outputs": [
    {
     "name": "stdout",
     "output_type": "stream",
     "text": [
      "[['Udenfor' '3872']\n",
      " ['Vanløse' '39537']\n",
      " ['Brønshøj-Husum' '43908']\n",
      " ['Valby' '51727']\n",
      " ['Indre By' '51937']\n",
      " ['Bispebjerg' '53604']\n",
      " ['Amager Øst' '55205']\n",
      " ['Vesterbro/Kgs. Enghave' '61623']\n",
      " ['Amager Vest' '64967']\n",
      " ['Østerbro' '75113']\n",
      " ['Nørrebro' '78802']]\n"
     ]
    },
    {
     "data": {
      "text/plain": [
       "([0, 1, 2, 3, 4, 5, 6, 7, 8, 9, 10],\n",
       " <a list of 11 Text major ticklabel objects>)"
      ]
     },
     "execution_count": 9,
     "metadata": {},
     "output_type": "execute_result"
    },
    {
     "data": {
      "image/png": "[encoded data removed]",
      "text/plain": [
       "<Figure size 432x288 with 1 Axes>"
      ]
     },
     "metadata": {
      "needs_background": "light"
     },
     "output_type": "display_data"
    }
   ],
   "source": [
    "sortedArr = temp_array[temp_array[:,1].argsort()]\n",
    "print(sortedArr)\n",
    "plt.bar(sortedArr[:,0], sortedArr[:,1],width=0.5, align='center')\n",
    "plt.xticks(rotation=45, horizontalalignment='right',fontweight='light')"
   ]
  },
  {
   "cell_type": "code",
   "execution_count": 10,
   "metadata": {},
   "outputs": [
    {
     "name": "stdout",
     "output_type": "stream",
     "text": [
      "Folk over 65 i København i 2015: 55750\n"
     ]
    }
   ],
   "source": [
    "# 5. Create a boolean mask to find out how many people above 65 years lived in Copenhagen in 2015\n",
    "age_mask = (dd[:,2] > 65) & (dd[:,0] == 2015)\n",
    "per_neighborhood = np.array([number_of_people_per_neighbourhood(n, age_mask) for n in neighb.keys()])\n",
    "print('Folk over 65 i København i 2015:',per_neighborhood.sum())"
   ]
  },
  {
   "cell_type": "code",
   "execution_count": 11,
   "metadata": {},
   "outputs": [],
   "source": [
    "# 6. How many of those were from the other nordic countries (not dk)\n",
    "nordic_countries = {5104: 'Finland', 5106: 'Island', 5110: 'Norge', 5120: 'Sverige'}\n",
    "def other_nordic_countries(n, mask):\n",
    "    all_people_in_given_n = dd[mask & (dd[:,3] == n)]\n",
    "    sum_of_people = all_people_in_given_n[:,4].sum()\n",
    "    return sum_of_people"
   ]
  },
  {
   "cell_type": "code",
   "execution_count": 12,
   "metadata": {},
   "outputs": [
    {
     "name": "stdout",
     "output_type": "stream",
     "text": [
      "608 were from the other nordic countries (not dk)\n"
     ]
    }
   ],
   "source": [
    "mask = (dd[:,0] == 2015)\n",
    "other_over_65 = np.array([other_nordic_countries(n, age_mask) for n in nordic_countries.keys()])\n",
    "print(other_over_65.sum(), 'were from the other nordic countries (not dk)')"
   ]
  },
  {
   "cell_type": "code",
   "execution_count": 13,
   "metadata": {},
   "outputs": [
    {
     "name": "stdout",
     "output_type": "stream",
     "text": [
      "Vesterbro: {1992: 47854, 1993: 47589, 1994: 47538, 1995: 47633, 1996: 47734, 1997: 48275, 1998: 49109, 1999: 49520, 2000: 50312, 2001: 50756, 2002: 51039, 2003: 51045, 2004: 50869, 2005: 50643, 2006: 50303, 2007: 50964, 2008: 51466, 2009: 53351, 2010: 55315, 2011: 57150, 2012: 58411, 2013: 59211, 2014: 60328, 2015: 61623} \n",
      "\n",
      "Østerbro {1992: 62221, 1993: 62583, 1994: 63050, 1995: 63572, 1996: 64503, 1997: 65856, 1998: 66148, 1999: 66295, 2000: 66673, 2001: 66877, 2002: 67020, 2003: 67550, 2004: 67516, 2005: 67671, 2006: 67351, 2007: 67330, 2008: 67964, 2009: 68769, 2010: 69951, 2011: 70938, 2012: 72400, 2013: 73388, 2014: 74521, 2015: 75113}\n"
     ]
    },
    {
     "data": {
      "text/plain": [
       "[<matplotlib.lines.Line2D at 0x7f5c58fdafd0>]"
      ]
     },
     "execution_count": 13,
     "metadata": {},
     "output_type": "execute_result"
    },
    {
     "data": {
      "image/png": "[encoded data removed]",
      "text/plain": [
       "<Figure size 432x288 with 1 Axes>"
      ]
     },
     "metadata": {
      "needs_background": "light"
     },
     "output_type": "display_data"
    }
   ],
   "source": [
    "# 7. Make a line plot showing the changes of number of people in vesterbro and østerbro from 1992 to 2015\n",
    "vesterbro = {}\n",
    "østerbro = {}\n",
    "years = list(np.unique(dd[:,0]))\n",
    "for year in years:\n",
    "    mask = (dd[:,0] == year) & (dd[:,1] == 4)\n",
    "    sum = np.sum(dd[mask][:,4])\n",
    "    vesterbro.update({year: sum})\n",
    "print('Vesterbro:',vesterbro, '\\n')\n",
    "for year in years:\n",
    "    mask = (dd[:,0] == year) & (dd[:,1] == 2)\n",
    "    sum = np.sum(dd[mask][:,4])\n",
    "    østerbro.update({year: sum})\n",
    "print('Østerbro',østerbro)\n",
    "østerbro_values = list(østerbro.values())\n",
    "vesterbro_values = list(vesterbro.values())\n",
    "\n",
    "plt.plot(years, østerbro_values)\n",
    "plt.plot(years, vesterbro_values)"
   ]
  }
 ],
 "metadata": {
  "kernelspec": {
   "display_name": "Python 3",
   "language": "python",
   "name": "python3"
  },
  "language_info": {
   "codemirror_mode": {
    "name": "ipython",
    "version": 3
   },
   "file_extension": ".py",
   "mimetype": "text/x-python",
   "name": "python",
   "nbconvert_exporter": "python",
   "pygments_lexer": "ipython3",
   "version": "3.7.6"
  }
 },
 "nbformat": 4,
 "nbformat_minor": 4
}
