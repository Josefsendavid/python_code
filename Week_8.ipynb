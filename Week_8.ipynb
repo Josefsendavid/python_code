{
 "cells": [
  {
   "cell_type": "markdown",
   "metadata": {},
   "source": [
    "# Week 8\n",
    "\n",
    "### Exercise 1\n",
    "Tilgå https://www.dba.dk/ og find alle links på siden ved hjælp af BeautifulSoup og gem dem i en liste."
   ]
  },
  {
   "cell_type": "code",
   "execution_count": 4,
   "metadata": {
    "scrolled": false
   },
   "outputs": [
    {
     "name": "stdout",
     "output_type": "stream",
     "text": [
      "['https://www.dba.dk/']\n",
      "['https://guide.dba.dk']\n",
      "['https://support.dba.dk/']\n",
      "['https://www.dba.dk/opret-annonce/']\n",
      "['https://support.dba.dk/']\n",
      "['https://info.dba.dk/kontakt/']\n",
      "['https://jobs.ebayclassifiedsgroup.com/dba']\n",
      "['https://dba.presscloud.com/nr/#/']\n",
      "['https://guide.dba.dk']\n",
      "['https://sikkerhed.dba.dk/']\n",
      "['https://info.dba.dk/vilkaar/brugervilkaar']\n",
      "['https://info.dba.dk/vilkaar/annonceringsregler']\n",
      "['https://info.dba.dk/vilkaar/persondatapolitik']\n"
     ]
    },
    {
     "ename": "AttributeError",
     "evalue": "'NoneType' object has no attribute 'startswith'",
     "output_type": "error",
     "traceback": [
      "\u001b[0;31m---------------------------------------------------------------------------\u001b[0m",
      "\u001b[0;31mAttributeError\u001b[0m                            Traceback (most recent call last)",
      "\u001b[0;32m<ipython-input-4-956440ae036b>\u001b[0m in \u001b[0;36m<module>\u001b[0;34m\u001b[0m\n\u001b[1;32m      9\u001b[0m \u001b[0;32mfor\u001b[0m \u001b[0ma\u001b[0m \u001b[0;32min\u001b[0m \u001b[0msoup\u001b[0m\u001b[0;34m.\u001b[0m\u001b[0mfind_all\u001b[0m\u001b[0;34m(\u001b[0m\u001b[0;34m'a'\u001b[0m\u001b[0;34m)\u001b[0m\u001b[0;34m:\u001b[0m\u001b[0;34m\u001b[0m\u001b[0;34m\u001b[0m\u001b[0m\n\u001b[1;32m     10\u001b[0m     \u001b[0mlinks\u001b[0m \u001b[0;34m=\u001b[0m \u001b[0;34m[\u001b[0m\u001b[0;34m]\u001b[0m\u001b[0;34m\u001b[0m\u001b[0;34m\u001b[0m\u001b[0m\n\u001b[0;32m---> 11\u001b[0;31m     \u001b[0;32mif\u001b[0m \u001b[0;32mnot\u001b[0m \u001b[0ma\u001b[0m\u001b[0;34m.\u001b[0m\u001b[0mget\u001b[0m\u001b[0;34m(\u001b[0m\u001b[0;34m'href'\u001b[0m\u001b[0;34m)\u001b[0m\u001b[0;34m.\u001b[0m\u001b[0mstartswith\u001b[0m\u001b[0;34m(\u001b[0m\u001b[0;34m'http'\u001b[0m\u001b[0;34m)\u001b[0m\u001b[0;34m:\u001b[0m\u001b[0;34m\u001b[0m\u001b[0;34m\u001b[0m\u001b[0m\n\u001b[0m\u001b[1;32m     12\u001b[0m         \u001b[0;32mcontinue\u001b[0m\u001b[0;34m\u001b[0m\u001b[0;34m\u001b[0m\u001b[0m\n\u001b[1;32m     13\u001b[0m     \u001b[0mlinks\u001b[0m\u001b[0;34m.\u001b[0m\u001b[0mappend\u001b[0m\u001b[0;34m(\u001b[0m\u001b[0ma\u001b[0m\u001b[0;34m.\u001b[0m\u001b[0mget\u001b[0m\u001b[0;34m(\u001b[0m\u001b[0;34m'href'\u001b[0m\u001b[0;34m)\u001b[0m\u001b[0;34m)\u001b[0m\u001b[0;34m\u001b[0m\u001b[0;34m\u001b[0m\u001b[0m\n",
      "\u001b[0;31mAttributeError\u001b[0m: 'NoneType' object has no attribute 'startswith'"
     ]
    }
   ],
   "source": [
    "import requests\n",
    "from bs4 import BeautifulSoup\n",
    "\n",
    "url = 'https://www.dba.dk/'\n",
    "r = requests.get(url, headers={'User-Agent': 'Mozilla/5.0'})\n",
    "r.raise_for_status()\n",
    "soup = BeautifulSoup(r.text, 'html.parser')\n",
    "elems = []\n",
    "for a in soup.find_all('a'):\n",
    "    links = []\n",
    "    if not a.get('href').startswith('http'):\n",
    "        continue\n",
    "    links.append(a.get('href'))\n",
    "    elems.append(a.get('href'))\n",
    "    print(links)\n"
   ]
  },
  {
   "cell_type": "markdown",
   "metadata": {},
   "source": [
    "### Exercise 2\n",
    "1. Brug pandas til at oprette et dataframe, som du lægger linksne i.\n",
    "2. Opret et sql table og læg dataframet deri."
   ]
  },
  {
   "cell_type": "code",
   "execution_count": 6,
   "metadata": {
    "scrolled": true
   },
   "outputs": [
    {
     "name": "stdout",
     "output_type": "stream",
     "text": [
      "['https://www.dba.dk/', 'https://guide.dba.dk', 'https://support.dba.dk/', 'https://www.dba.dk/opret-annonce/', 'https://support.dba.dk/', 'https://info.dba.dk/kontakt/', 'https://jobs.ebayclassifiedsgroup.com/dba', 'https://dba.presscloud.com/nr/#/', 'https://guide.dba.dk', 'https://sikkerhed.dba.dk/', 'https://info.dba.dk/vilkaar/brugervilkaar', 'https://info.dba.dk/vilkaar/annonceringsregler', 'https://info.dba.dk/vilkaar/persondatapolitik']\n"
     ]
    },
    {
     "data": {
      "text/html": [
       "<div>\n",
       "<style scoped>\n",
       "    .dataframe tbody tr th:only-of-type {\n",
       "        vertical-align: middle;\n",
       "    }\n",
       "\n",
       "    .dataframe tbody tr th {\n",
       "        vertical-align: top;\n",
       "    }\n",
       "\n",
       "    .dataframe thead th {\n",
       "        text-align: right;\n",
       "    }\n",
       "</style>\n",
       "<table border=\"1\" class=\"dataframe\">\n",
       "  <thead>\n",
       "    <tr style=\"text-align: right;\">\n",
       "      <th></th>\n",
       "      <th>Links</th>\n",
       "    </tr>\n",
       "  </thead>\n",
       "  <tbody>\n",
       "    <tr>\n",
       "      <th>0</th>\n",
       "      <td>https://www.dba.dk/</td>\n",
       "    </tr>\n",
       "    <tr>\n",
       "      <th>1</th>\n",
       "      <td>https://guide.dba.dk</td>\n",
       "    </tr>\n",
       "    <tr>\n",
       "      <th>2</th>\n",
       "      <td>https://support.dba.dk/</td>\n",
       "    </tr>\n",
       "    <tr>\n",
       "      <th>3</th>\n",
       "      <td>https://www.dba.dk/opret-annonce/</td>\n",
       "    </tr>\n",
       "    <tr>\n",
       "      <th>4</th>\n",
       "      <td>https://support.dba.dk/</td>\n",
       "    </tr>\n",
       "    <tr>\n",
       "      <th>5</th>\n",
       "      <td>https://info.dba.dk/kontakt/</td>\n",
       "    </tr>\n",
       "    <tr>\n",
       "      <th>6</th>\n",
       "      <td>https://jobs.ebayclassifiedsgroup.com/dba</td>\n",
       "    </tr>\n",
       "    <tr>\n",
       "      <th>7</th>\n",
       "      <td>https://dba.presscloud.com/nr/#/</td>\n",
       "    </tr>\n",
       "    <tr>\n",
       "      <th>8</th>\n",
       "      <td>https://guide.dba.dk</td>\n",
       "    </tr>\n",
       "    <tr>\n",
       "      <th>9</th>\n",
       "      <td>https://sikkerhed.dba.dk/</td>\n",
       "    </tr>\n",
       "    <tr>\n",
       "      <th>10</th>\n",
       "      <td>https://info.dba.dk/vilkaar/brugervilkaar</td>\n",
       "    </tr>\n",
       "    <tr>\n",
       "      <th>11</th>\n",
       "      <td>https://info.dba.dk/vilkaar/annonceringsregler</td>\n",
       "    </tr>\n",
       "    <tr>\n",
       "      <th>12</th>\n",
       "      <td>https://info.dba.dk/vilkaar/persondatapolitik</td>\n",
       "    </tr>\n",
       "  </tbody>\n",
       "</table>\n",
       "</div>"
      ],
      "text/plain": [
       "                                             Links\n",
       "0                              https://www.dba.dk/\n",
       "1                             https://guide.dba.dk\n",
       "2                          https://support.dba.dk/\n",
       "3                https://www.dba.dk/opret-annonce/\n",
       "4                          https://support.dba.dk/\n",
       "5                     https://info.dba.dk/kontakt/\n",
       "6        https://jobs.ebayclassifiedsgroup.com/dba\n",
       "7                 https://dba.presscloud.com/nr/#/\n",
       "8                             https://guide.dba.dk\n",
       "9                        https://sikkerhed.dba.dk/\n",
       "10       https://info.dba.dk/vilkaar/brugervilkaar\n",
       "11  https://info.dba.dk/vilkaar/annonceringsregler\n",
       "12   https://info.dba.dk/vilkaar/persondatapolitik"
      ]
     },
     "execution_count": 6,
     "metadata": {},
     "output_type": "execute_result"
    }
   ],
   "source": [
    "import pandas as pd\n",
    "from sqlalchemy import create_engine #sqlalchemy helped convert strings to dates seamlessly\n",
    "\n",
    "con_str = \"mysql+mysqlconnector://root:root@db/db\"\n",
    "engine = create_engine(con_str)\n",
    "\n",
    "print(elems)\n",
    "\n",
    "df = pd.DataFrame(elems, columns = ['Links'])\n",
    "df = df.applymap(str)\n",
    "df.to_sql('dbalinks',con=engine, if_exists='replace', index = False)\n",
    "df"
   ]
  },
  {
   "cell_type": "markdown",
   "metadata": {},
   "source": [
    "### Exercise 3\n",
    "1. Brug flask til at hive dataen fra databasen ud på en side (hint: GET request).\n",
    "2. Lav en post metode, til at indsætte ny data i tabellen."
   ]
  },
  {
   "cell_type": "code",
   "execution_count": 2,
   "metadata": {},
   "outputs": [
    {
     "name": "stdout",
     "output_type": "stream",
     "text": [
      "Added: https://www.erger.dk\n"
     ]
    }
   ],
   "source": [
    "#Flask program under python_handin_template/Week_08_flask.py\n",
    "import Week_08_flask as flsk\n",
    "\n",
    "flsk.add_link('https://www.erger.dk')"
   ]
  }
 ],
 "metadata": {
  "kernelspec": {
   "display_name": "Python 3",
   "language": "python",
   "name": "python3"
  },
  "language_info": {
   "codemirror_mode": {
    "name": "ipython",
    "version": 3
   },
   "file_extension": ".py",
   "mimetype": "text/x-python",
   "name": "python",
   "nbconvert_exporter": "python",
   "pygments_lexer": "ipython3",
   "version": "3.7.6"
  }
 },
 "nbformat": 4,
 "nbformat_minor": 4
}
