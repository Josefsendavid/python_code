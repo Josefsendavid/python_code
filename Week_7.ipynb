{
 "cells": [
  {
   "cell_type": "markdown",
   "metadata": {},
   "source": [
    "# Week7Python\n",
    "\n",
    "## Exercise 1\n",
    "1. Åbn 'https://www.dba.dk/biler/'.\n",
    "2. Find ind alle biler med mærker: 'Peugeot', 'Volvo' og gem dem.\n",
    "\n",
    "## Exercise 2\n",
    "1. Brug Regular Expressions til at sortere de fundne biler på år 2005.\n",
    "\n",
    "## Exercise 3\n",
    "1. Brug Selenium til at tilgå de samme punkter som i forrige opgaver, og vælge den dyreste bil.\n",
    "2. Brug BeautifulSoup til at printe bilbeskrivelsen ud."
   ]
  },
  {
   "cell_type": "code",
   "execution_count": 1,
   "metadata": {},
   "outputs": [],
   "source": [
    "import requests\n",
    "import bs4\n",
    "from tqdm import tqdm"
   ]
  },
  {
   "cell_type": "code",
   "execution_count": 2,
   "metadata": {
    "scrolled": true
   },
   "outputs": [
    {
     "name": "stdout",
     "output_type": "stream",
     "text": [
      "size 40\n"
     ]
    }
   ],
   "source": [
    "start_url = 'https://www.dba.dk/biler/biler/maerke-peugeot/'\n",
    "\n",
    "def scrape_events_per_page(url):\n",
    "    \"\"\"\n",
    "    returns:\n",
    "        A list of tuples of strings holding title, place, date, and price\n",
    "        for concerts in Copenhagen scraped from Kulturnaut.dk\n",
    "    \"\"\"\n",
    "    r = requests.get(url, headers={'User-Agent': 'Mozilla/5.0'})\n",
    "    r.raise_for_status()\n",
    "\n",
    "    soup = bs4.BeautifulSoup(r.text, 'html.parser')\n",
    "    event_cells = soup.select('tr[class^=dbaListing]')\n",
    "    print('size',len(event_cells))\n",
    "    #print(event_cells[0])\n",
    "    scraped_cars_per_page = []\n",
    "    \n",
    "    for event_cell in event_cells:\n",
    "        car_link = []\n",
    "        for link in event_cell.find_all('a'):\n",
    "            if not link.get('href').startswith('http'):\n",
    "                continue\n",
    "            car_link = link.get('href')\n",
    "            \n",
    "        beskrivelse = event_cell.select('td[class^=mainContent]')[0].getText().strip()\n",
    "        km = event_cell.select('td[title^=Km]')[0].getText().strip()\n",
    "        modelår = event_cell.select('td[title^=Modelår]')[0].getText().strip()\n",
    "        pris = event_cell.select('td[title^=Pris]')[0].getText().strip()\n",
    "        #print(title)\n",
    "#rest = event_cell.find('time').text.split(',')\n",
    "        scraped_cars_per_page.append((car_link, km, modelår, pris))\n",
    "    #print(scraped_cars_per_page)    \n",
    "    \n",
    "    return scraped_cars_per_page\n",
    "\n",
    "\n",
    "scraped_events = []\n",
    "indexes = list(range(1, 2))\n",
    "indexes[0] = 0\n",
    "\n",
    "for idx in enumerate(indexes):\n",
    "    scrape_url = start_url.format(idx)\n",
    "    #print(scrape_url)\n",
    "    scraped_events += scrape_events_per_page(scrape_url)\n",
    "    car_list = scraped_events\n",
    "\n",
    "#scrape_events_per_page()"
   ]
  },
  {
   "cell_type": "code",
   "execution_count": 3,
   "metadata": {},
   "outputs": [
    {
     "data": {
      "text/plain": [
       "[('https://www.dba.dk/peugeot-207-16-hdi-90/id-1077752072/',\n",
       "  '320.000',\n",
       "  '2009',\n",
       "  '16.900 kr.'),\n",
       " ('https://www.dba.dk/peugeot-206-14-hdi-68/id-1077739823/',\n",
       "  '290.000',\n",
       "  '2011',\n",
       "  '14.900 kr.'),\n",
       " ('https://www.dba.dk/peugeot-206-14-hdi-diesel/id-1077729306/',\n",
       "  '308.000',\n",
       "  '2008',\n",
       "  '8.500 kr.'),\n",
       " ('https://www.dba.dk/peugeot-208-12-vti-access/id-1077727957/',\n",
       "  '117.000',\n",
       "  '2012',\n",
       "  '55.000 kr.'),\n",
       " ('https://www.dba.dk/peugeot-107-10-comfort/id-1077718133/',\n",
       "  '285.000',\n",
       "  '2008',\n",
       "  '14.999 kr.'),\n",
       " ('https://www.dba.dk/peugeot-207-16-hdi-xr/id-1077712549/',\n",
       "  '251.000',\n",
       "  '2007',\n",
       "  '22.195 kr.'),\n",
       " ('https://www.dba.dk/peugeot-207-14-hdi-70/id-1077684148/',\n",
       "  '203.000',\n",
       "  '2009',\n",
       "  '19.000 kr.'),\n",
       " ('https://www.dba.dk/peugeot-207-16-hdi-90/id-1077678030/',\n",
       "  '285.000',\n",
       "  '2007',\n",
       "  '17.900 kr.'),\n",
       " ('https://www.dba.dk/peugeot-2008/id-1077646605/',\n",
       "  '66.000',\n",
       "  '2015',\n",
       "  '90.000 kr.'),\n",
       " ('https://www.dba.dk/peugeot-307-diesel-2007-km/id-1077192599/',\n",
       "  '270.000',\n",
       "  '2007',\n",
       "  '25.000 kr.'),\n",
       " ('https://www.dba.dk/peugeot-107-10-comfort/id-1075187664/',\n",
       "  '120.000',\n",
       "  '2010',\n",
       "  '26.999 kr.'),\n",
       " ('https://www.dba.dk/peugeot-206-14-hdi/id-1077071356/',\n",
       "  '215.000',\n",
       "  '2009',\n",
       "  '14.900 kr.'),\n",
       " ('https://www.dba.dk/peugeot-108-10-e-vti-69/id-1077231482/',\n",
       "  '98.000',\n",
       "  '2017',\n",
       "  '61.990 kr.'),\n",
       " ('https://www.dba.dk/peugeot-207-16-hdi-90/id-1077031451/',\n",
       "  '229.000',\n",
       "  '2010',\n",
       "  '21.000 kr.'),\n",
       " ('https://www.dba.dk/29000-ved-hurtig-handel/id-1076676141/',\n",
       "  '147.000',\n",
       "  '2013',\n",
       "  '29.000 kr.'),\n",
       " ('https://www.dba.dk/peugeot-207-14-xr-benzin/id-1076387252/',\n",
       "  '145.500',\n",
       "  '2007',\n",
       "  '24.900 kr.'),\n",
       " ('https://www.dba.dk/peugeot-206-14-hdi-68/id-1075047473/',\n",
       "  '147.000',\n",
       "  '2012',\n",
       "  '28.000 kr.'),\n",
       " ('https://www.dba.dk/peugeot-207-16-s16-benzin/id-1074038418/',\n",
       "  '206.000',\n",
       "  '2006',\n",
       "  '22.500 kr.'),\n",
       " ('https://www.dba.dk/peugeot-308-diesel-2009-km/id-1073536154/',\n",
       "  '146.500',\n",
       "  '2009',\n",
       "  '45.000 kr.'),\n",
       " ('https://www.dba.dk/peugeot-306-16-sr-benzin/id-1072295745/',\n",
       "  '201.500',\n",
       "  '1996',\n",
       "  '3.250 kr.'),\n",
       " ('https://www.dba.dk/peugeot-308-16-bluehdi-120/id-505373061/',\n",
       "  '145.000',\n",
       "  '2017',\n",
       "  '149.900 kr.'),\n",
       " ('https://www.dba.dk/peugeot-308-16-bluehdi-120/id-505391488/',\n",
       "  '68.000',\n",
       "  '2017',\n",
       "  '149.800 kr.'),\n",
       " ('https://www.dba.dk/peugeot-206-14-hdi-70/id-1077755782/',\n",
       "  '193.000',\n",
       "  '2010',\n",
       "  '15.500 kr.'),\n",
       " ('https://www.dba.dk/peugeot-206-14-hdi-diesel/id-1077754345/',\n",
       "  '138.700',\n",
       "  '2008',\n",
       "  '26.000 kr.'),\n",
       " ('https://www.dba.dk/peugeot-306-20-hdi-stc/id-1077753902/',\n",
       "  '390.000',\n",
       "  '2001',\n",
       "  '7.000 kr.'),\n",
       " ('https://www.dba.dk/peugeot-207-16-hdi-90/id-1077753230/',\n",
       "  '285.000',\n",
       "  '2006',\n",
       "  '12.000 kr.'),\n",
       " ('https://www.dba.dk/peugeot-208-16-bluehdi-100/id-505552032/',\n",
       "  '79.000',\n",
       "  '2016',\n",
       "  '82.500 kr.'),\n",
       " ('https://www.dba.dk/peugeot-207-16-hdi-xr-diesel/id-505409573/',\n",
       "  '253.000',\n",
       "  '2007',\n",
       "  '18.800 kr.'),\n",
       " ('https://www.dba.dk/peugeot-partner-16-16v/id-1077752298/',\n",
       "  '360.000',\n",
       "  '2003',\n",
       "  '12.000 kr.'),\n",
       " ('https://www.dba.dk/peugeot-206-14-hdi-70/id-1077751266/',\n",
       "  '147.000',\n",
       "  '2010',\n",
       "  '27.999 kr.'),\n",
       " ('https://www.dba.dk/peugeot-107-10-cool-benzin/id-1077750969/',\n",
       "  '120.000',\n",
       "  '2012',\n",
       "  '28.999 kr.'),\n",
       " ('https://www.dba.dk/peugeot-308-16-e-hdi-116/id-505576634/',\n",
       "  '199.000',\n",
       "  '2014',\n",
       "  '69.900 kr.'),\n",
       " ('https://www.dba.dk/peugeot-307-benzin-2003-km/id-1077749520/',\n",
       "  '208.000',\n",
       "  '2003',\n",
       "  '5.000 kr.'),\n",
       " ('https://www.dba.dk/peugeot-208-10-vti-access/id-1077749515/',\n",
       "  '85.000',\n",
       "  '2014',\n",
       "  '64.800 kr.'),\n",
       " ('https://www.dba.dk/peugeot-407-18-sr-benzin/id-1077748830/',\n",
       "  '193.000',\n",
       "  '2005',\n",
       "  '19.800 kr.'),\n",
       " ('https://www.dba.dk/peugeot-206-14-comfort/id-1077748119/',\n",
       "  '162.000',\n",
       "  '2009',\n",
       "  '16.500 kr.'),\n",
       " ('https://www.dba.dk/peugeot-207-16-hdi-90/id-1077748024/',\n",
       "  '',\n",
       "  '2008',\n",
       "  '14.900 kr.'),\n",
       " ('https://www.dba.dk/peugeot-307-benzin-2004-km/id-1077746543/',\n",
       "  '185.000',\n",
       "  '2004',\n",
       "  '10.900 kr.'),\n",
       " ('https://www.dba.dk/peugeot-407-16-hdi/id-1077549871/',\n",
       "  '3.070.003',\n",
       "  '2007',\n",
       "  '13.800 kr.'),\n",
       " ('https://www.dba.dk/peugeot-107-10-comfort/id-1077745994/',\n",
       "  '139.000',\n",
       "  '2010',\n",
       "  '24.998 kr.')]"
      ]
     },
     "execution_count": 3,
     "metadata": {},
     "output_type": "execute_result"
    }
   ],
   "source": [
    "car_list"
   ]
  },
  {
   "cell_type": "code",
   "execution_count": 4,
   "metadata": {
    "scrolled": true
   },
   "outputs": [
    {
     "name": "stdout",
     "output_type": "stream",
     "text": [
      "[('https://www.dba.dk/peugeot-partner-16-16v/id-1077752298/', '360.000', '2003', '12.000 kr.'), ('https://www.dba.dk/peugeot-407-18-sr-benzin/id-1077748830/', '193.000', '2005', '19.800 kr.'), ('https://www.dba.dk/peugeot-407-16-hdi/id-1077549871/', '3.070.003', '2007', '13.800 kr.'), ('https://www.dba.dk/peugeot-308-diesel-2009-km/id-1073536154/', '146.500', '2009', '45.000 kr.'), ('https://www.dba.dk/peugeot-308-16-e-hdi-116/id-505576634/', '199.000', '2014', '69.900 kr.'), ('https://www.dba.dk/peugeot-308-16-bluehdi-120/id-505391488/', '68.000', '2017', '149.800 kr.'), ('https://www.dba.dk/peugeot-308-16-bluehdi-120/id-505373061/', '145.000', '2017', '149.900 kr.'), ('https://www.dba.dk/peugeot-307-diesel-2007-km/id-1077192599/', '270.000', '2007', '25.000 kr.'), ('https://www.dba.dk/peugeot-307-benzin-2004-km/id-1077746543/', '185.000', '2004', '10.900 kr.'), ('https://www.dba.dk/peugeot-307-benzin-2003-km/id-1077749520/', '208.000', '2003', '5.000 kr.'), ('https://www.dba.dk/peugeot-306-20-hdi-stc/id-1077753902/', '390.000', '2001', '7.000 kr.'), ('https://www.dba.dk/peugeot-306-16-sr-benzin/id-1072295745/', '201.500', '1996', '3.250 kr.'), ('https://www.dba.dk/peugeot-208-16-bluehdi-100/id-505552032/', '79.000', '2016', '82.500 kr.'), ('https://www.dba.dk/peugeot-208-12-vti-access/id-1077727957/', '117.000', '2012', '55.000 kr.'), ('https://www.dba.dk/peugeot-208-10-vti-access/id-1077749515/', '85.000', '2014', '64.800 kr.'), ('https://www.dba.dk/peugeot-207-16-s16-benzin/id-1074038418/', '206.000', '2006', '22.500 kr.'), ('https://www.dba.dk/peugeot-207-16-hdi-xr/id-1077712549/', '251.000', '2007', '22.195 kr.'), ('https://www.dba.dk/peugeot-207-16-hdi-xr-diesel/id-505409573/', '253.000', '2007', '18.800 kr.'), ('https://www.dba.dk/peugeot-207-16-hdi-90/id-1077753230/', '285.000', '2006', '12.000 kr.'), ('https://www.dba.dk/peugeot-207-16-hdi-90/id-1077752072/', '320.000', '2009', '16.900 kr.'), ('https://www.dba.dk/peugeot-207-16-hdi-90/id-1077748024/', '', '2008', '14.900 kr.'), ('https://www.dba.dk/peugeot-207-16-hdi-90/id-1077678030/', '285.000', '2007', '17.900 kr.'), ('https://www.dba.dk/peugeot-207-16-hdi-90/id-1077031451/', '229.000', '2010', '21.000 kr.'), ('https://www.dba.dk/peugeot-207-14-xr-benzin/id-1076387252/', '145.500', '2007', '24.900 kr.'), ('https://www.dba.dk/peugeot-207-14-hdi-70/id-1077684148/', '203.000', '2009', '19.000 kr.'), ('https://www.dba.dk/peugeot-206-14-hdi/id-1077071356/', '215.000', '2009', '14.900 kr.'), ('https://www.dba.dk/peugeot-206-14-hdi-diesel/id-1077754345/', '138.700', '2008', '26.000 kr.'), ('https://www.dba.dk/peugeot-206-14-hdi-diesel/id-1077729306/', '308.000', '2008', '8.500 kr.'), ('https://www.dba.dk/peugeot-206-14-hdi-70/id-1077755782/', '193.000', '2010', '15.500 kr.'), ('https://www.dba.dk/peugeot-206-14-hdi-70/id-1077751266/', '147.000', '2010', '27.999 kr.'), ('https://www.dba.dk/peugeot-206-14-hdi-68/id-1077739823/', '290.000', '2011', '14.900 kr.'), ('https://www.dba.dk/peugeot-206-14-hdi-68/id-1075047473/', '147.000', '2012', '28.000 kr.'), ('https://www.dba.dk/peugeot-206-14-comfort/id-1077748119/', '162.000', '2009', '16.500 kr.'), ('https://www.dba.dk/peugeot-2008/id-1077646605/', '66.000', '2015', '90.000 kr.'), ('https://www.dba.dk/peugeot-108-10-e-vti-69/id-1077231482/', '98.000', '2017', '61.990 kr.'), ('https://www.dba.dk/peugeot-107-10-cool-benzin/id-1077750969/', '120.000', '2012', '28.999 kr.'), ('https://www.dba.dk/peugeot-107-10-comfort/id-1077745994/', '139.000', '2010', '24.998 kr.'), ('https://www.dba.dk/peugeot-107-10-comfort/id-1077718133/', '285.000', '2008', '14.999 kr.'), ('https://www.dba.dk/peugeot-107-10-comfort/id-1075187664/', '120.000', '2010', '26.999 kr.'), ('https://www.dba.dk/29000-ved-hurtig-handel/id-1076676141/', '147.000', '2013', '29.000 kr.')]\n"
     ]
    }
   ],
   "source": [
    "import re\n",
    "\n",
    "def sort_price(elem):\n",
    "    return elem[3]\n",
    "##sorted_by_price = sorted(car_list, key=sort_price, reverse=True)\n",
    "##print(sorted_by_price)\n",
    "\n",
    "sorted_by_year = sorted(car_list, key=lambda x: x[:3], reverse=True)\n",
    "print(sorted_by_year)\n",
    "#type(sorted_by_year)"
   ]
  },
  {
   "cell_type": "code",
   "execution_count": 5,
   "metadata": {},
   "outputs": [
    {
     "name": "stdout",
     "output_type": "stream",
     "text": [
      "https://www.dba.dk/peugeot-partner-16-16v/id-1077752298/\n"
     ]
    }
   ],
   "source": [
    "res = max((j) for i in car_list for j in i)\n",
    "print(res)"
   ]
  },
  {
   "cell_type": "code",
   "execution_count": 68,
   "metadata": {},
   "outputs": [
    {
     "name": "stdout",
     "output_type": "stream",
     "text": [
      "'https://www.dba.dk/peugeot-407-18-sr-benzin/id-1077748830/', '193.000', '2005', '19.800 kr.'\n",
      "['2005']\n"
     ]
    }
   ],
   "source": [
    "result = re.findall(r'\\((.*?,.*?)\\)', str(car_list))\n",
    "name_reg1 = re.compile(r'(2005)')\n",
    "names = name_reg1.findall(str(result))\n",
    "for line in result:\n",
    "    if \"2005\" in line:\n",
    "        print(line)\n",
    "print(names)"
   ]
  },
  {
   "cell_type": "code",
   "execution_count": 69,
   "metadata": {},
   "outputs": [
    {
     "data": {
      "text/html": [
       "<div>\n",
       "<style scoped>\n",
       "    .dataframe tbody tr th:only-of-type {\n",
       "        vertical-align: middle;\n",
       "    }\n",
       "\n",
       "    .dataframe tbody tr th {\n",
       "        vertical-align: top;\n",
       "    }\n",
       "\n",
       "    .dataframe thead th {\n",
       "        text-align: right;\n",
       "    }\n",
       "</style>\n",
       "<table border=\"1\" class=\"dataframe\">\n",
       "  <thead>\n",
       "    <tr style=\"text-align: right;\">\n",
       "      <th></th>\n",
       "      <th>Link</th>\n",
       "      <th>Km</th>\n",
       "      <th>Modelår</th>\n",
       "      <th>Pris</th>\n",
       "    </tr>\n",
       "  </thead>\n",
       "  <tbody>\n",
       "    <tr>\n",
       "      <th>34</th>\n",
       "      <td>https://www.dba.dk/peugeot-407-18-sr-benzin/id...</td>\n",
       "      <td>193.000</td>\n",
       "      <td>2005</td>\n",
       "      <td>19.800 kr.</td>\n",
       "    </tr>\n",
       "  </tbody>\n",
       "</table>\n",
       "</div>"
      ],
      "text/plain": [
       "                                                 Link       Km Modelår  \\\n",
       "34  https://www.dba.dk/peugeot-407-18-sr-benzin/id...  193.000    2005   \n",
       "\n",
       "          Pris  \n",
       "34  19.800 kr.  "
      ]
     },
     "execution_count": 69,
     "metadata": {},
     "output_type": "execute_result"
    }
   ],
   "source": [
    "import pandas as pd\n",
    "\n",
    "df = pd.DataFrame(car_list, columns=['Link', 'Km', 'Modelår', 'Pris'])\n",
    "df1 = df[df['Modelår'].isin(['2005'])]\n",
    "df1"
   ]
  },
  {
   "cell_type": "code",
   "execution_count": 13,
   "metadata": {},
   "outputs": [
    {
     "name": "stdout",
     "output_type": "stream",
     "text": [
      "Cookie Button <selenium.webdriver.firefox.webelement.FirefoxWebElement (session=\"40716a3f-a54b-4a1c-a7b9-bea16fb5df64\", element=\"4649cdfe-f7cb-4a14-9fa4-8366ebd14d61\")>\n"
     ]
    }
   ],
   "source": [
    "from selenium import webdriver\n",
    "from selenium.webdriver.firefox.options import Options\n",
    "from time import sleep\n",
    "\n",
    "base_url = 'http://www.dba.dk'\n",
    "browser = webdriver.Firefox();\n",
    "browser.get(base_url)\n",
    "browser.implicitly_wait(3)\n",
    "\n",
    "try:\n",
    "        # cookie_button = browser.find_element_by_id('qc-cmp2-ui') #the whole popup box.\n",
    "    cookie_button = browser.find_element_by_css_selector('#onetrust-accept-btn-handler')\n",
    "    print('Cookie Button', cookie_button)\n",
    "    try:\n",
    "        cookie_button.click()\n",
    "        sleep(3)\n",
    "    except Exception as ex:\n",
    "        print(ex)\n",
    "except Exception as e:\n",
    "    print('BUTTON EXCEPTION',e)\n",
    "sleep(2)\n",
    "\n",
    "biler_button = browser.find_element_by_xpath('//*[@id=\"content\"]/div/aside/nav/ul/li[1]/a')\n",
    "biler_button.click()\n",
    "sleep(2)\n",
    "\n",
    "peugeot_button = browser.find_element_by_xpath('//*[@id=\"matrix-data\"]/fieldset/select[1]/option[174]')\n",
    "peugeot_button.click()\n",
    "sleep(2)\n",
    "\n",
    "search_from = browser.find_element_by_name('modelaarFrom')\n",
    "search_to = browser.find_element_by_name('modelaarTo')\n",
    "search_from.send_keys('2005')\n",
    "search_to.send_keys('2005')\n",
    "#search_from.submit()\n",
    "#search_to.submit()\n",
    "sleep(2)\n",
    "search_button = browser.find_element_by_xpath('//*[@id=\"advanced-search-button\"]')\n",
    "search_button.click()\n",
    "sleep(2)\n",
    "\n",
    "sort_price_asc = browser.find_element_by_xpath('//*[@id=\"content\"]/div[1]/section/table/thead/tr/th[6]/span')\n",
    "sort_price_asc.click()\n",
    "sleep(2)\n",
    "sort_price_desc = browser.find_element_by_xpath('//*[@id=\"content\"]/div[1]/section/table/thead/tr/th[6]/span')\n",
    "sort_price_desc.click()\n",
    "sleep(2)\n",
    "\n",
    "find_tr = browser.find_element_by_xpath('//*[@id=\"content\"]/div[1]/section/table/tbody/tr[4]')\n",
    "find_link = find_tr.find_element_by_xpath('//*[@id=\"content\"]/div[1]/section/table/tbody/tr[4]/td[2]/a')\n",
    "find_link.click()\n",
    "sleep(2)"
   ]
  }
 ],
 "metadata": {
  "kernelspec": {
   "display_name": "Python 3",
   "language": "python",
   "name": "python3"
  },
  "language_info": {
   "codemirror_mode": {
    "name": "ipython",
    "version": 3
   },
   "file_extension": ".py",
   "mimetype": "text/x-python",
   "name": "python",
   "nbconvert_exporter": "python",
   "pygments_lexer": "ipython3",
   "version": "3.7.6"
  }
 },
 "nbformat": 4,
 "nbformat_minor": 4
}
