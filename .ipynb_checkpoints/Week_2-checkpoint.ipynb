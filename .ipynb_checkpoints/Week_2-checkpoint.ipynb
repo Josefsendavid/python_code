{
 "cells": [
  {
   "cell_type": "markdown",
   "metadata": {},
   "source": [
    "# Week 2 handin"
   ]
  },
  {
   "cell_type": "markdown",
   "metadata": {},
   "source": [
    "## Assignment\n",
    "## Exercise 1\n",
    "1. Create a python file with 3 functions:\n",
    "  1. `def print_file_content(file)` that can print content of a csv file to the console\n",
    "  2. `def write_list_to_file(output_file, lst)` that can take a list of tuple and write each element to a new line in file\n",
    "    1. rewrite the function so that it gets an arbitrary number of strings instead of a list\n",
    "  3. `def read_csv(input_file)` that take a csv file and read each row into a list\n",
    "2. Add a functionality so that the file can be called from cli with 2 arguments\n",
    "  1. path to csv file\n",
    "  2. an argument `--file file_name` that if given will write the content to file_name or otherwise will print it to the console.\n",
    "3. Add a --help cli argument to describe how the module is used  \n",
    "\n",
    "## Exercise 2\n",
    "Create a module called utils.py with the following 5 functions:\n",
    "\n",
    "```python\n",
    "def get_file_names(folderpath,out=output.txt):\n",
    "    \"\"\" takes a path to a folder and writes all filenames in the folder to a specified output file\"\"\"\n",
    "\n",
    "def get_all_file_names(folderpath,out=output.txt):\n",
    "    \"\"\"takes a path to a folder and write all filenames recursively (files of all sub folders to)\"\"\"\n",
    "\n",
    "def print_line_one(file_names):\n",
    "    \"\"\"takes a list of filenames and print the first line of each\"\"\"\n",
    "\n",
    "def print_emails(file_names):\n",
    "    \"\"\"takes a list of filenames and print each line that contains an email (just look for @)\"\"\"\n",
    "\n",
    "def write_headlines(md_files, out=output.txt):\n",
    "    \"\"\"takes a list of md files and writes all headlines (lines starting with #) to a file\"\"\"\n",
    "\n",
    "```\n",
    "Make sure your module can be called both from cli and imported to another module\n",
    "Create a new module that imports utils.py and test each function."
   ]
  },
  {
   "cell_type": "markdown",
   "metadata": {},
   "source": [
    "## Status\n",
    "Exercise 1. a+b+c is complete, but missing 2. a+b and 3.\n",
    "\n",
    "Exercise 2 is complete and made in VSCode:\n",
    "\"modules/utils.py\" and \"Week_2_Exercise_2.py\".\n",
    "Some of the methods from exercise 2 isn't working in jupyter."
   ]
  },
  {
   "cell_type": "markdown",
   "metadata": {},
   "source": [
    "## Solution 1"
   ]
  },
  {
   "cell_type": "code",
   "execution_count": 128,
   "metadata": {},
   "outputs": [],
   "source": [
    "## 1.A\n",
    "\n",
    "   \n",
    "def print_file_content(file):\n",
    "    with open(file, 'r') as file_object:\n",
    "        data1 = file_object.read()\n",
    "        print(data1)\n",
    "\n",
    "def write_list_to_file(output_file, a1, a2, a3):\n",
    "    with open(output_file, 'a') as file_object:\n",
    "        lst = (a1, a2, a3)\n",
    "        file_object.write('\\n' + str(lst))\n",
    "        \n",
    "def read_csv(input_file):\n",
    "    with open(file) as file_object:\n",
    "        lines = file_object.readlines()\n",
    "        lines = [l.strip() for l in lines]\n",
    "        ## file_write = 'pythonfile.csv'\n",
    "        ## write_list_to_file(file_write, lines)\n",
    "        print(lines)\n",
    "\n",
    "def write_lines_to_file(output_file, lst):\n",
    "    print(lst)\n",
    "    with open (output_file, \"w\") as file_object:\n",
    "        for f in lst:\n",
    "            for files in f:\n",
    "                file_object.write(files + \"\\n\")"
   ]
  },
  {
   "cell_type": "code",
   "execution_count": 121,
   "metadata": {},
   "outputs": [
    {
     "name": "stdout",
     "output_type": "stream",
     "text": [
      "some data to be written to the file\n",
      "('my', 'tuple', 'list')\n",
      "('Hej', 'David', 'Josefsen')\n"
     ]
    }
   ],
   "source": [
    "## 1.A\n",
    "file = \"pythonfile.csv\"\n",
    "print_file_content(file)"
   ]
  },
  {
   "cell_type": "code",
   "execution_count": 90,
   "metadata": {},
   "outputs": [],
   "source": [
    "## 1.B\n",
    "## lst = ('my', 'tuple', 'list')\n",
    "a1 = 'Hej'\n",
    "a2 = 'David'\n",
    "a3 = 'Josefsen'\n",
    "output_file = 'pythonfile.csv'\n",
    "write_list_to_file(output_file, a1, a2, a3)"
   ]
  },
  {
   "cell_type": "code",
   "execution_count": 120,
   "metadata": {},
   "outputs": [
    {
     "name": "stdout",
     "output_type": "stream",
     "text": [
      "['some data to be written to the file', \"('my', 'tuple', 'list')\", \"('Hej', 'David', 'Josefsen')\"]\n"
     ]
    }
   ],
   "source": [
    "# 1.C\n",
    "file = 'pythonfile.csv'\n",
    "read_csv(file)"
   ]
  },
  {
   "cell_type": "markdown",
   "metadata": {},
   "source": [
    "## Solution part 2"
   ]
  },
  {
   "cell_type": "code",
   "execution_count": 32,
   "metadata": {
    "scrolled": true
   },
   "outputs": [],
   "source": [
    "import modules.utils as util\n",
    "\n",
    "util.get_file_names(\"/home/jovyan/python_handin_template\")\n",
    "util.get_all_file_names(\"/home/jovyan/python_handin_template\")\n",
    "##file_list = [\"output1.txt\", \"output.txt\", \"pythonfile.csv\"]\n",
    "##util.print_line_one(file_list)\n",
    "##email_list = [\"readtest.txt\", \"output1.txt\", \"emails.txt\"]\n",
    "##util.print_emails(email_list)\n",
    "##util.write_headlines(\"python_handin_template/headlines.md\")"
   ]
  }
 ],
 "metadata": {
  "kernelspec": {
   "display_name": "Python 3",
   "language": "python",
   "name": "python3"
  },
  "language_info": {
   "codemirror_mode": {
    "name": "ipython",
    "version": 3
   },
   "file_extension": ".py",
   "mimetype": "text/x-python",
   "name": "python",
   "nbconvert_exporter": "python",
   "pygments_lexer": "ipython3",
   "version": "3.7.6"
  }
 },
 "nbformat": 4,
 "nbformat_minor": 4
}
