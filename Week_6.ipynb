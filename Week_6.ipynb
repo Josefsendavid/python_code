{
 "cells": [
  {
   "cell_type": "markdown",
   "metadata": {},
   "source": [
    "# Handin Exercise 6\n",
    "\n",
    "Create a module containing a class with the following methods:\n",
    "1. __init__(self, url_list)\n",
    "2. download(url,filename) raises NotFoundException when url returns 404\n",
    "3. multi_download() uses threads to download multiple urls as text and stores filenames as a property\n",
    "4. __iter__() returns an iterator\n",
    "5. __next__() returns the next filename (and stops when there are no more)\n",
    "6. urllist_generator() returns a generator to loop through the urls\n",
    "7. avg_vowels(text) - a rough estimate on readability returns average number of vowels in the words of the text\n",
    "8. hardest_read() returns the filename of the text with the highest vowel score (use all the cpu cores on the computer for this work.\n",
    "\n",
    "### Ex 2\n",
    "Create a notebook and import your module from above\n",
    "1. Find 10 books on https://www.gutenberg.org/browse/scores/top and download them using an object of the class you just created before\n",
    "2. Test the different methods of your class\n",
    "3. Make a bar plot with a sorted list of books on x-axis and avg vowels on y-axis"
   ]
  },
  {
   "cell_type": "code",
   "execution_count": 40,
   "metadata": {},
   "outputs": [],
   "source": [
    "import requests\n",
    "from concurrent.futures import ThreadPoolExecutor\n",
    "from concurrent.futures import ProcessPoolExecutor\n",
    "import multiprocessing\n",
    "\n",
    "class FileLoader():\n",
    "    def __init__(self, url_list=[]):\n",
    "        self.url_list = url_list\n",
    "        self.filenames = []\n",
    "        \n",
    "    def download(self, url, filename):\n",
    "        res = requests.get(url)\n",
    "        \n",
    "        if(res.ok):\n",
    "            with open(filename, 'wb') as fd:\n",
    "                self.filenames.append(filename)\n",
    "                for chunk in res.iter_content(chunk_size=1024):\n",
    "                    fd.write(chunk)\n",
    "        elif res.status == 404:\n",
    "            raise NotFoundException('Statuscode:', {res.status})\n",
    "\n",
    "    def multi_download(self, workers=5):\n",
    "        with ThreadPoolExecutor(workers) as ex:\n",
    "            for i in range(0, len(self.url_list)):\n",
    "                print('Book: ', i+1)\n",
    "                self.download(self.url_list[i], 'book' + str(i+1) + '.txt')\n",
    "                \n",
    "    def __iter__(self):\n",
    "        self.n = 0\n",
    "        return self\n",
    "    \n",
    "    def __next__(self):\n",
    "        index = self.n\n",
    "        if index != len(self.filenames):\n",
    "            self.n += 1\n",
    "            return self.filenames[index]\n",
    "        else:\n",
    "            raise StopIteration\n",
    "            \n",
    "    def urllist_generator(self):\n",
    "        for url in self.url_list:\n",
    "            yield url\n",
    "            \n",
    "class NotFoundException():\n",
    "    pass"
   ]
  },
  {
   "cell_type": "code",
   "execution_count": 41,
   "metadata": {},
   "outputs": [
    {
     "name": "stdout",
     "output_type": "stream",
     "text": [
      "Book:  1\n",
      "Book:  2\n",
      "Book:  3\n",
      "Book:  4\n",
      "Book:  5\n"
     ]
    }
   ],
   "source": [
    "urllist = ['https://www.gutenberg.org/ebooks/64317', 'https://www.gutenberg.org/ebooks/84', 'https://www.gutenberg.org/ebooks/1080',\n",
    "          'https://www.gutenberg.org/ebooks/174', 'https://www.gutenberg.org/ebooks/5200']\n",
    "urls = FileLoader(urllist)\n",
    "FileLoader.multi_download(urls)"
   ]
  },
  {
   "cell_type": "code",
   "execution_count": 37,
   "metadata": {},
   "outputs": [
    {
     "data": {
      "text/plain": [
       "['book1.txt', 'book2.txt', 'book3.txt', 'book4.txt', 'book5.txt']"
      ]
     },
     "execution_count": 37,
     "metadata": {},
     "output_type": "execute_result"
    }
   ],
   "source": [
    "[filename for filename in urls]"
   ]
  },
  {
   "cell_type": "code",
   "execution_count": 39,
   "metadata": {},
   "outputs": [
    {
     "data": {
      "text/plain": [
       "<generator object FileLoader.urllist_generator at 0x7faf90da6ed0>"
      ]
     },
     "execution_count": 39,
     "metadata": {},
     "output_type": "execute_result"
    }
   ],
   "source": [
    "FileLoader.urllist_generator(FileLoader)"
   ]
  }
 ],
 "metadata": {
  "kernelspec": {
   "display_name": "Python 3",
   "language": "python",
   "name": "python3"
  },
  "language_info": {
   "codemirror_mode": {
    "name": "ipython",
    "version": 3
   },
   "file_extension": ".py",
   "mimetype": "text/x-python",
   "name": "python",
   "nbconvert_exporter": "python",
   "pygments_lexer": "ipython3",
   "version": "3.7.6"
  }
 },
 "nbformat": 4,
 "nbformat_minor": 4
}
